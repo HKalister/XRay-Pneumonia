{
  "nbformat": 4,
  "nbformat_minor": 0,
  "metadata": {
    "colab": {
      "provenance": []
    },
    "kernelspec": {
      "name": "python3",
      "display_name": "Python 3"
    },
    "language_info": {
      "name": "python"
    }
  },
  "cells": [
    {
      "cell_type": "markdown",
      "source": [
        "#CLASE 14 DE OCTUBRE"
      ],
      "metadata": {
        "id": "oZkOs-zCLQU8"
      }
    },
    {
      "cell_type": "code",
      "execution_count": null,
      "metadata": {
        "colab": {
          "base_uri": "https://localhost:8080/"
        },
        "id": "VoQ8dK2nH2m_",
        "outputId": "fc07d056-7036-4b51-9c55-c15af08c8132"
      },
      "outputs": [
        {
          "output_type": "stream",
          "name": "stdout",
          "text": [
            "En cada paquete hay un total de  7\n"
          ]
        }
      ],
      "source": [
        "pantalones = 55\n",
        "paquetes = 7\n",
        "total = int(pantalones/paquetes)\n",
        "print(\"En cada paquete hay un total de \", total)"
      ]
    },
    {
      "cell_type": "code",
      "source": [
        "cantotal=pantalones - total*paquetes # tambien ppodria habver sido pantalones%paquetes\n",
        "print(f\"Me sobran: {cantotal} pantalones\")\n",
        "p = 70 #precio individual\n",
        "print(f\"El monto de los individuales es: {cantotal*p} \")"
      ],
      "metadata": {
        "colab": {
          "base_uri": "https://localhost:8080/"
        },
        "id": "oFwC70bqITAV",
        "outputId": "c9fbfcd8-8410-4801-8a6d-163b9b8726a3"
      },
      "execution_count": null,
      "outputs": [
        {
          "output_type": "stream",
          "name": "stdout",
          "text": [
            "Me sobran:  6 pantalones\n",
            "El monto de los individuales es: 420 \n"
          ]
        }
      ]
    },
    {
      "cell_type": "markdown",
      "source": [
        "##listas"
      ],
      "metadata": {
        "id": "HMrX47qmOgpT"
      }
    },
    {
      "cell_type": "code",
      "source": [
        "# listas tienen [ ]\n",
        "# Son datos agrupados de cualquier tipo\n",
        "lista_1=[1,2]\n",
        "print(lista_1)\n"
      ],
      "metadata": {
        "id": "7L0Vyc3nIrut",
        "colab": {
          "base_uri": "https://localhost:8080/"
        },
        "outputId": "a8e7b9d6-e418-4a87-d2fe-d40cdd0869d9"
      },
      "execution_count": null,
      "outputs": [
        {
          "output_type": "stream",
          "name": "stdout",
          "text": [
            "[1, 2]\n"
          ]
        }
      ]
    },
    {
      "cell_type": "code",
      "source": [
        "lista_1[0]\n",
        "lista_1.append('Jesus')"
      ],
      "metadata": {
        "id": "mmqOM57yP_1D"
      },
      "execution_count": null,
      "outputs": []
    },
    {
      "cell_type": "code",
      "source": [
        "lista_1[2]"
      ],
      "metadata": {
        "colab": {
          "base_uri": "https://localhost:8080/",
          "height": 36
        },
        "id": "3krsHCZmQlgk",
        "outputId": "e3772bb4-5270-459b-e670-0eef411b5595"
      },
      "execution_count": null,
      "outputs": [
        {
          "output_type": "execute_result",
          "data": {
            "text/plain": [
              "'Jesus'"
            ],
            "application/vnd.google.colaboratory.intrinsic+json": {
              "type": "string"
            }
          },
          "metadata": {},
          "execution_count": 17
        }
      ]
    },
    {
      "cell_type": "code",
      "source": [
        "lista_2=[1,2]\n",
        "lista_3=['jesus','ortiz']"
      ],
      "metadata": {
        "id": "OCMPkZwEUJ0v"
      },
      "execution_count": null,
      "outputs": []
    },
    {
      "cell_type": "code",
      "source": [
        "lista_4=lista_2+lista_3\n",
        "lista_4"
      ],
      "metadata": {
        "colab": {
          "base_uri": "https://localhost:8080/"
        },
        "id": "q3cN1EQQUV5C",
        "outputId": "f246320b-5795-4944-d337-51940d173213"
      },
      "execution_count": null,
      "outputs": [
        {
          "output_type": "execute_result",
          "data": {
            "text/plain": [
              "[1, 2, 'jesus', 'ortiz']"
            ]
          },
          "metadata": {},
          "execution_count": 20
        }
      ]
    },
    {
      "cell_type": "code",
      "source": [
        "lista_2.extend(lista_3)\n"
      ],
      "metadata": {
        "id": "E2TakYwxUbNY"
      },
      "execution_count": null,
      "outputs": []
    },
    {
      "cell_type": "code",
      "source": [
        "lista_2"
      ],
      "metadata": {
        "colab": {
          "base_uri": "https://localhost:8080/"
        },
        "id": "8NoPJg3DUj9j",
        "outputId": "2a76a64a-5794-468e-80be-0824cbf54c80"
      },
      "execution_count": null,
      "outputs": [
        {
          "output_type": "execute_result",
          "data": {
            "text/plain": [
              "[1, 2, 'jesus', 'ortiz']"
            ]
          },
          "metadata": {},
          "execution_count": 22
        }
      ]
    },
    {
      "cell_type": "code",
      "source": [
        "lista_5=[*lista_2,*lista_3]\n",
        "lista_5"
      ],
      "metadata": {
        "colab": {
          "base_uri": "https://localhost:8080/"
        },
        "id": "d2QLBrwCUpuv",
        "outputId": "635de12e-bf42-4f5b-e22c-833cae8cc77d"
      },
      "execution_count": null,
      "outputs": [
        {
          "output_type": "execute_result",
          "data": {
            "text/plain": [
              "[1, 2, 'jesus', 'ortiz', 'jesus', 'ortiz']"
            ]
          },
          "metadata": {},
          "execution_count": 24
        }
      ]
    },
    {
      "cell_type": "code",
      "source": [
        "lista_2.insert(3,\"Hola\") #lo inserto sin eliminar ningun valor"
      ],
      "metadata": {
        "id": "OyS9chO_WNmS"
      },
      "execution_count": null,
      "outputs": []
    },
    {
      "cell_type": "code",
      "source": [
        "lista_2\n",
        "lista_5[3]=5 #me reemplaza el valor"
      ],
      "metadata": {
        "id": "5NDkz9R_Wpt9"
      },
      "execution_count": null,
      "outputs": []
    },
    {
      "cell_type": "code",
      "source": [
        "lista_5"
      ],
      "metadata": {
        "colab": {
          "base_uri": "https://localhost:8080/"
        },
        "id": "CEUtDdkXWzLa",
        "outputId": "6fe5267c-adc6-4c73-fad4-d0b6229bf18d"
      },
      "execution_count": null,
      "outputs": [
        {
          "output_type": "execute_result",
          "data": {
            "text/plain": [
              "[1, 2, 'jesus', 5, 'jesus', 'ortiz']"
            ]
          },
          "metadata": {},
          "execution_count": 29
        }
      ]
    },
    {
      "cell_type": "code",
      "source": [
        "prueba = 'Hola'\n",
        "prueba[0]\n"
      ],
      "metadata": {
        "colab": {
          "base_uri": "https://localhost:8080/",
          "height": 36
        },
        "id": "288jT13TXqnl",
        "outputId": "e47e1b65-de14-4b39-cb42-b931a01618db"
      },
      "execution_count": null,
      "outputs": [
        {
          "output_type": "execute_result",
          "data": {
            "text/plain": [
              "'H'"
            ],
            "application/vnd.google.colaboratory.intrinsic+json": {
              "type": "string"
            }
          },
          "metadata": {},
          "execution_count": 33
        }
      ]
    },
    {
      "cell_type": "code",
      "source": [
        "prueba[-1]"
      ],
      "metadata": {
        "colab": {
          "base_uri": "https://localhost:8080/",
          "height": 36
        },
        "id": "zkZ_PSMgX086",
        "outputId": "01cca1db-8e4d-4316-a7ad-90f99ec9e389"
      },
      "execution_count": null,
      "outputs": [
        {
          "output_type": "execute_result",
          "data": {
            "text/plain": [
              "'a'"
            ],
            "application/vnd.google.colaboratory.intrinsic+json": {
              "type": "string"
            }
          },
          "metadata": {},
          "execution_count": 34
        }
      ]
    },
    {
      "cell_type": "markdown",
      "source": [
        "###Listas\n"
      ],
      "metadata": {
        "id": "yB5LvH2zX9h3"
      }
    },
    {
      "cell_type": "code",
      "source": [
        "numeros_primos=[1,2,3,5,7,11,13,17,19,23,29,31]\n",
        "l=len(numeros_primos)\n",
        "\n",
        "print(f'El tercer valor es: {numeros_primos[2]}')\n",
        "print(f'El septimo valor es: {numeros_primos[6]}')\n",
        "print(f'El ultimo valor es: {numeros_primos[l-1]}')\n"
      ],
      "metadata": {
        "colab": {
          "base_uri": "https://localhost:8080/"
        },
        "id": "SCmzsppoX8FO",
        "outputId": "38644c38-a6cb-4a39-d0bb-efa1d8699cfa"
      },
      "execution_count": null,
      "outputs": [
        {
          "output_type": "stream",
          "name": "stdout",
          "text": [
            "El tercer valor es: 3\n",
            "El septimo valor es: 13\n",
            "El ultimo valor es: 31\n"
          ]
        }
      ]
    },
    {
      "cell_type": "code",
      "source": [
        "alumnos = ['Armando', 'Bruno', 'Claudia', 'Daniela', 'Alejandra']\n"
      ],
      "metadata": {
        "id": "n_1L7jiJdjoM"
      },
      "execution_count": null,
      "outputs": []
    },
    {
      "cell_type": "code",
      "source": [
        "print('Alejandra' not in alumnos)\n",
        "\n",
        "print('Alejandra' in alumnos)"
      ],
      "metadata": {
        "colab": {
          "base_uri": "https://localhost:8080/"
        },
        "id": "jRNdcUuje07z",
        "outputId": "09988b80-c809-4d0a-fbe1-1855a7c44772"
      },
      "execution_count": null,
      "outputs": [
        {
          "output_type": "stream",
          "name": "stdout",
          "text": [
            "False\n",
            "True\n"
          ]
        }
      ]
    },
    {
      "cell_type": "markdown",
      "source": [
        "## TUPLAS : no se pueden modificar (las listas si se pueden modificar)\n"
      ],
      "metadata": {
        "id": "iMXYH87pfpIo"
      }
    },
    {
      "cell_type": "code",
      "source": [
        "tupla_1=(1,2)"
      ],
      "metadata": {
        "id": "qgJmVELYfn8I"
      },
      "execution_count": null,
      "outputs": []
    },
    {
      "cell_type": "code",
      "source": [
        "tupla_1.append(5)\n",
        "tupla_1[1]=3"
      ],
      "metadata": {
        "colab": {
          "base_uri": "https://localhost:8080/",
          "height": 192
        },
        "id": "9oaUhjxVf8nz",
        "outputId": "16d9522e-3973-43d4-afad-49cd5a2722be"
      },
      "execution_count": null,
      "outputs": [
        {
          "output_type": "error",
          "ename": "AttributeError",
          "evalue": "ignored",
          "traceback": [
            "\u001b[0;31m---------------------------------------------------------------------------\u001b[0m",
            "\u001b[0;31mAttributeError\u001b[0m                            Traceback (most recent call last)",
            "\u001b[0;32m<ipython-input-43-fc2119cc5955>\u001b[0m in \u001b[0;36m<cell line: 1>\u001b[0;34m()\u001b[0m\n\u001b[0;32m----> 1\u001b[0;31m \u001b[0mtupla_1\u001b[0m\u001b[0;34m.\u001b[0m\u001b[0mappend\u001b[0m\u001b[0;34m(\u001b[0m\u001b[0;36m5\u001b[0m\u001b[0;34m)\u001b[0m\u001b[0;34m\u001b[0m\u001b[0;34m\u001b[0m\u001b[0m\n\u001b[0m\u001b[1;32m      2\u001b[0m \u001b[0mtupla_1\u001b[0m\u001b[0;34m[\u001b[0m\u001b[0;36m1\u001b[0m\u001b[0;34m]\u001b[0m\u001b[0;34m=\u001b[0m\u001b[0;36m3\u001b[0m\u001b[0;34m\u001b[0m\u001b[0;34m\u001b[0m\u001b[0m\n",
            "\u001b[0;31mAttributeError\u001b[0m: 'tuple' object has no attribute 'append'"
          ]
        }
      ]
    },
    {
      "cell_type": "code",
      "source": [
        "lista_1.append(tupla_1)"
      ],
      "metadata": {
        "id": "1NKdflr_gJZc"
      },
      "execution_count": null,
      "outputs": []
    },
    {
      "cell_type": "code",
      "source": [
        "lista_1.append(lista_5)\n",
        "lista_1"
      ],
      "metadata": {
        "colab": {
          "base_uri": "https://localhost:8080/"
        },
        "id": "NpXUUn4RgNqa",
        "outputId": "b5864a71-cf41-4dcc-a692-64871a3ded90"
      },
      "execution_count": null,
      "outputs": [
        {
          "output_type": "execute_result",
          "data": {
            "text/plain": [
              "[1, 2, 'Jesus', (1, 2), [1, 2, 'jesus', 5, 'jesus', 'ortiz']]"
            ]
          },
          "metadata": {},
          "execution_count": 46
        }
      ]
    },
    {
      "cell_type": "code",
      "source": [
        "lista_1[-1][3]"
      ],
      "metadata": {
        "colab": {
          "base_uri": "https://localhost:8080/"
        },
        "id": "n2JgJi35gfM8",
        "outputId": "3e49dea2-f8d8-4a34-ff67-c4e52c343908"
      },
      "execution_count": null,
      "outputs": [
        {
          "output_type": "execute_result",
          "data": {
            "text/plain": [
              "5"
            ]
          },
          "metadata": {},
          "execution_count": 47
        }
      ]
    },
    {
      "cell_type": "markdown",
      "source": [
        "## DICCIONARIOS {}: Elemento de datos no ordenados, no tiene posiciones si no que sus valores se guardan con una clave"
      ],
      "metadata": {
        "id": "0IuCQXxngjmp"
      }
    },
    {
      "cell_type": "code",
      "source": [
        "my_dicc = {'1a':1}"
      ],
      "metadata": {
        "id": "v_2UK8h5gi2q"
      },
      "execution_count": null,
      "outputs": []
    },
    {
      "cell_type": "code",
      "source": [
        "my_dicc[0] # en el diccionario esto no funciona\n",
        "my_dicc.append(1) #tampoco funciona"
      ],
      "metadata": {
        "colab": {
          "base_uri": "https://localhost:8080/",
          "height": 192
        },
        "id": "EVtug8hYhkJC",
        "outputId": "6ddd089f-1dcf-4f8b-9ef8-60516ccbeae0"
      },
      "execution_count": null,
      "outputs": [
        {
          "output_type": "error",
          "ename": "KeyError",
          "evalue": "ignored",
          "traceback": [
            "\u001b[0;31m---------------------------------------------------------------------------\u001b[0m",
            "\u001b[0;31mKeyError\u001b[0m                                  Traceback (most recent call last)",
            "\u001b[0;32m<ipython-input-51-4da6b2347a68>\u001b[0m in \u001b[0;36m<cell line: 1>\u001b[0;34m()\u001b[0m\n\u001b[0;32m----> 1\u001b[0;31m \u001b[0mmy_dicc\u001b[0m\u001b[0;34m[\u001b[0m\u001b[0;36m0\u001b[0m\u001b[0;34m]\u001b[0m \u001b[0;31m# en el diccionario esto no funciona\u001b[0m\u001b[0;34m\u001b[0m\u001b[0;34m\u001b[0m\u001b[0m\n\u001b[0m\u001b[1;32m      2\u001b[0m \u001b[0mmy_dicc\u001b[0m\u001b[0;34m.\u001b[0m\u001b[0mappend\u001b[0m\u001b[0;34m(\u001b[0m\u001b[0;36m1\u001b[0m\u001b[0;34m)\u001b[0m\u001b[0;34m\u001b[0m\u001b[0;34m\u001b[0m\u001b[0m\n",
            "\u001b[0;31mKeyError\u001b[0m: 0"
          ]
        }
      ]
    },
    {
      "cell_type": "code",
      "source": [
        "my_dicc['1a']"
      ],
      "metadata": {
        "colab": {
          "base_uri": "https://localhost:8080/"
        },
        "id": "kMr9SFtvhpTX",
        "outputId": "8a80aff6-ae80-4baf-9db6-e948b8ab6e1d"
      },
      "execution_count": null,
      "outputs": [
        {
          "output_type": "execute_result",
          "data": {
            "text/plain": [
              "1"
            ]
          },
          "metadata": {},
          "execution_count": 50
        }
      ]
    },
    {
      "cell_type": "code",
      "source": [
        "my_dicc['jesus']='ortiz'"
      ],
      "metadata": {
        "id": "YgnJ1jW6h3Dv"
      },
      "execution_count": null,
      "outputs": []
    },
    {
      "cell_type": "code",
      "source": [
        "my_dicc['hola']=[1,2]\n",
        "my_dicc"
      ],
      "metadata": {
        "colab": {
          "base_uri": "https://localhost:8080/"
        },
        "id": "6-tnBmY9h9XI",
        "outputId": "8acdfa8d-5272-472b-e19a-cadfe27d4a8b"
      },
      "execution_count": null,
      "outputs": [
        {
          "output_type": "execute_result",
          "data": {
            "text/plain": [
              "{'1a': 1, 'jesus': 'ortiz', 'hola': [1, 2]}"
            ]
          },
          "metadata": {},
          "execution_count": 53
        }
      ]
    },
    {
      "cell_type": "code",
      "source": [
        "my_dicc['hola'].append(3) #esto funciona por que se trata de una lista"
      ],
      "metadata": {
        "id": "uWVhgZ7viFg8"
      },
      "execution_count": null,
      "outputs": []
    },
    {
      "cell_type": "code",
      "source": [
        "my_dicc"
      ],
      "metadata": {
        "colab": {
          "base_uri": "https://localhost:8080/"
        },
        "id": "--aRSS4xiLVN",
        "outputId": "37a9ab9d-22de-492f-cdb9-3f0f611fb7de"
      },
      "execution_count": null,
      "outputs": [
        {
          "output_type": "execute_result",
          "data": {
            "text/plain": [
              "{'1a': 1, 'jesus': 'ortiz', 'hola': [1, 2, 3]}"
            ]
          },
          "metadata": {},
          "execution_count": 55
        }
      ]
    },
    {
      "cell_type": "code",
      "source": [
        "a=3\n",
        "b=3\n"
      ],
      "metadata": {
        "id": "_QZrtRh0ktbF"
      },
      "execution_count": null,
      "outputs": []
    },
    {
      "cell_type": "code",
      "source": [
        "if (a==b):\n",
        "  print(\"hola\")\n",
        "  print(\"todos\")\n",
        "  a=2\n",
        "  print(a+b)\n",
        "else:\n",
        "  a=b\n",
        "  print('estoy haciendo trampa')\n"
      ],
      "metadata": {
        "colab": {
          "base_uri": "https://localhost:8080/"
        },
        "id": "kT6Ifu6WkvWT",
        "outputId": "4b5f3462-2853-4fbc-bdb1-48030a7ec0c0"
      },
      "execution_count": null,
      "outputs": [
        {
          "output_type": "stream",
          "name": "stdout",
          "text": [
            "estoy haciendo trampa\n"
          ]
        }
      ]
    },
    {
      "cell_type": "code",
      "source": [
        "if (a>5):\n",
        "  print(\"en mayor que 5\")\n",
        "elif (a<0):\n",
        "  print(\"es negativo\")\n",
        "elif (a==0):\n",
        "  print(\"a es cero\")\n",
        "else:\n",
        "  print(\"a es mayor que cero y menor que 5\")\n"
      ],
      "metadata": {
        "colab": {
          "base_uri": "https://localhost:8080/"
        },
        "id": "ugQ9hQYnllkL",
        "outputId": "db2bd231-c94b-43d3-9670-be7f0961a143"
      },
      "execution_count": null,
      "outputs": [
        {
          "output_type": "stream",
          "name": "stdout",
          "text": [
            "a es mayor que cero y menor que 5\n"
          ]
        }
      ]
    },
    {
      "cell_type": "code",
      "source": [
        "estudiantes = [\"jesus\", \"jose\", \"luisa\", \"antonia\", \"maria\"]"
      ],
      "metadata": {
        "id": "wPd3pvgRl-Tl"
      },
      "execution_count": null,
      "outputs": []
    },
    {
      "cell_type": "code",
      "source": [
        "for estudiante in estudiantes:\n",
        "  print(\"hola\",estudiante)"
      ],
      "metadata": {
        "colab": {
          "base_uri": "https://localhost:8080/"
        },
        "id": "mfQqA_SDmKEa",
        "outputId": "c0bccb22-e3e7-475d-b720-47882f05f40a"
      },
      "execution_count": null,
      "outputs": [
        {
          "output_type": "stream",
          "name": "stdout",
          "text": [
            "hola  jesus\n",
            "hola  jose\n",
            "hola  luisa\n",
            "hola  antonia\n",
            "hola  maria\n"
          ]
        }
      ]
    },
    {
      "cell_type": "code",
      "source": [
        "for i in range(0,100,5):\n",
        "  print(i)"
      ],
      "metadata": {
        "colab": {
          "base_uri": "https://localhost:8080/"
        },
        "id": "gK0uBbT5m33G",
        "outputId": "d2196846-31a0-46a6-db58-838034c3d78e"
      },
      "execution_count": null,
      "outputs": [
        {
          "output_type": "stream",
          "name": "stdout",
          "text": [
            "0\n",
            "5\n",
            "10\n",
            "15\n",
            "20\n",
            "25\n",
            "30\n",
            "35\n",
            "40\n",
            "45\n",
            "50\n",
            "55\n",
            "60\n",
            "65\n",
            "70\n",
            "75\n",
            "80\n",
            "85\n",
            "90\n",
            "95\n"
          ]
        }
      ]
    },
    {
      "cell_type": "code",
      "source": [
        "for i in range(len(estudiantes)):\n",
        "   print(\"hola\",estudiantes[i])"
      ],
      "metadata": {
        "colab": {
          "base_uri": "https://localhost:8080/"
        },
        "id": "4B1S3jWhnETb",
        "outputId": "df5d0307-698e-47b5-ba91-c755dcaa6abd"
      },
      "execution_count": null,
      "outputs": [
        {
          "output_type": "stream",
          "name": "stdout",
          "text": [
            "hola jesus\n",
            "hola jose\n",
            "hola luisa\n",
            "hola antonia\n",
            "hola maria\n"
          ]
        }
      ]
    },
    {
      "cell_type": "code",
      "source": [
        "amigos= ['natalia','francisca','daniel','patricio','matias']\n",
        "numero= [ 82654799, 75426533, 85471955, 52346981, 75498625]\n",
        "\n",
        "for i in range(len(amigos)):\n",
        "  print(f'Buenos días {amigos[i]}, ¿tu numero todavía es {numero[i]}?')\n"
      ],
      "metadata": {
        "colab": {
          "base_uri": "https://localhost:8080/"
        },
        "id": "fr2tAEdlnv3u",
        "outputId": "b8323a63-ca66-4816-e8a9-ca4e9d0acd11"
      },
      "execution_count": null,
      "outputs": [
        {
          "output_type": "stream",
          "name": "stdout",
          "text": [
            "Buenos días natalia, ¿tu numero todavía es 82654799?\n",
            "Buenos días francisca, ¿tu numero todavía es 75426533?\n",
            "Buenos días daniel, ¿tu numero todavía es 85471955?\n",
            "Buenos días patricio, ¿tu numero todavía es 52346981?\n",
            "Buenos días matias, ¿tu numero todavía es 75498625?\n"
          ]
        }
      ]
    },
    {
      "cell_type": "code",
      "source": [
        "import pandas\n",
        "pandas.DataFrame()"
      ],
      "metadata": {
        "id": "oPyTym6TylYl"
      },
      "execution_count": null,
      "outputs": []
    },
    {
      "cell_type": "code",
      "source": [
        "import numpy as np\n"
      ],
      "metadata": {
        "id": "n8xiuQ5EySSA"
      },
      "execution_count": null,
      "outputs": []
    },
    {
      "cell_type": "code",
      "source": [
        "vector_1 = np.array([2,4,6,8,10])\n",
        "vector_1"
      ],
      "metadata": {
        "colab": {
          "base_uri": "https://localhost:8080/"
        },
        "id": "3AnQPKUSyshW",
        "outputId": "7b0f6a2b-8cc9-4126-ffa2-e5306d6ce6b8"
      },
      "execution_count": null,
      "outputs": [
        {
          "output_type": "execute_result",
          "data": {
            "text/plain": [
              "array([ 2,  4,  6,  8, 10])"
            ]
          },
          "metadata": {},
          "execution_count": 89
        }
      ]
    },
    {
      "cell_type": "code",
      "source": [
        " vector_2=np.array([])\n",
        " vector_2"
      ],
      "metadata": {
        "id": "ZEUfqxcVyurC"
      },
      "execution_count": null,
      "outputs": []
    },
    {
      "cell_type": "code",
      "source": [
        "reto = np.array([[1,2,3,4,5,6],[7,8,9,10,11,12],[13,14,15,16,17,18]])\n",
        "reto\n",
        "pandas.DataFrame(reto)"
      ],
      "metadata": {
        "colab": {
          "base_uri": "https://localhost:8080/",
          "height": 143
        },
        "id": "3xBkcvjdzGpx",
        "outputId": "7614a7f9-ec1e-4fb3-d1a4-8d3ae5c39922"
      },
      "execution_count": null,
      "outputs": [
        {
          "output_type": "execute_result",
          "data": {
            "text/plain": [
              "    0   1   2   3   4   5\n",
              "0   1   2   3   4   5   6\n",
              "1   7   8   9  10  11  12\n",
              "2  13  14  15  16  17  18"
            ],
            "text/html": [
              "\n",
              "  <div id=\"df-b784c6f6-05b7-412d-8e19-c93506dfd75c\" class=\"colab-df-container\">\n",
              "    <div>\n",
              "<style scoped>\n",
              "    .dataframe tbody tr th:only-of-type {\n",
              "        vertical-align: middle;\n",
              "    }\n",
              "\n",
              "    .dataframe tbody tr th {\n",
              "        vertical-align: top;\n",
              "    }\n",
              "\n",
              "    .dataframe thead th {\n",
              "        text-align: right;\n",
              "    }\n",
              "</style>\n",
              "<table border=\"1\" class=\"dataframe\">\n",
              "  <thead>\n",
              "    <tr style=\"text-align: right;\">\n",
              "      <th></th>\n",
              "      <th>0</th>\n",
              "      <th>1</th>\n",
              "      <th>2</th>\n",
              "      <th>3</th>\n",
              "      <th>4</th>\n",
              "      <th>5</th>\n",
              "    </tr>\n",
              "  </thead>\n",
              "  <tbody>\n",
              "    <tr>\n",
              "      <th>0</th>\n",
              "      <td>1</td>\n",
              "      <td>2</td>\n",
              "      <td>3</td>\n",
              "      <td>4</td>\n",
              "      <td>5</td>\n",
              "      <td>6</td>\n",
              "    </tr>\n",
              "    <tr>\n",
              "      <th>1</th>\n",
              "      <td>7</td>\n",
              "      <td>8</td>\n",
              "      <td>9</td>\n",
              "      <td>10</td>\n",
              "      <td>11</td>\n",
              "      <td>12</td>\n",
              "    </tr>\n",
              "    <tr>\n",
              "      <th>2</th>\n",
              "      <td>13</td>\n",
              "      <td>14</td>\n",
              "      <td>15</td>\n",
              "      <td>16</td>\n",
              "      <td>17</td>\n",
              "      <td>18</td>\n",
              "    </tr>\n",
              "  </tbody>\n",
              "</table>\n",
              "</div>\n",
              "    <div class=\"colab-df-buttons\">\n",
              "\n",
              "  <div class=\"colab-df-container\">\n",
              "    <button class=\"colab-df-convert\" onclick=\"convertToInteractive('df-b784c6f6-05b7-412d-8e19-c93506dfd75c')\"\n",
              "            title=\"Convert this dataframe to an interactive table.\"\n",
              "            style=\"display:none;\">\n",
              "\n",
              "  <svg xmlns=\"http://www.w3.org/2000/svg\" height=\"24px\" viewBox=\"0 -960 960 960\">\n",
              "    <path d=\"M120-120v-720h720v720H120Zm60-500h600v-160H180v160Zm220 220h160v-160H400v160Zm0 220h160v-160H400v160ZM180-400h160v-160H180v160Zm440 0h160v-160H620v160ZM180-180h160v-160H180v160Zm440 0h160v-160H620v160Z\"/>\n",
              "  </svg>\n",
              "    </button>\n",
              "\n",
              "  <style>\n",
              "    .colab-df-container {\n",
              "      display:flex;\n",
              "      gap: 12px;\n",
              "    }\n",
              "\n",
              "    .colab-df-convert {\n",
              "      background-color: #E8F0FE;\n",
              "      border: none;\n",
              "      border-radius: 50%;\n",
              "      cursor: pointer;\n",
              "      display: none;\n",
              "      fill: #1967D2;\n",
              "      height: 32px;\n",
              "      padding: 0 0 0 0;\n",
              "      width: 32px;\n",
              "    }\n",
              "\n",
              "    .colab-df-convert:hover {\n",
              "      background-color: #E2EBFA;\n",
              "      box-shadow: 0px 1px 2px rgba(60, 64, 67, 0.3), 0px 1px 3px 1px rgba(60, 64, 67, 0.15);\n",
              "      fill: #174EA6;\n",
              "    }\n",
              "\n",
              "    .colab-df-buttons div {\n",
              "      margin-bottom: 4px;\n",
              "    }\n",
              "\n",
              "    [theme=dark] .colab-df-convert {\n",
              "      background-color: #3B4455;\n",
              "      fill: #D2E3FC;\n",
              "    }\n",
              "\n",
              "    [theme=dark] .colab-df-convert:hover {\n",
              "      background-color: #434B5C;\n",
              "      box-shadow: 0px 1px 3px 1px rgba(0, 0, 0, 0.15);\n",
              "      filter: drop-shadow(0px 1px 2px rgba(0, 0, 0, 0.3));\n",
              "      fill: #FFFFFF;\n",
              "    }\n",
              "  </style>\n",
              "\n",
              "    <script>\n",
              "      const buttonEl =\n",
              "        document.querySelector('#df-b784c6f6-05b7-412d-8e19-c93506dfd75c button.colab-df-convert');\n",
              "      buttonEl.style.display =\n",
              "        google.colab.kernel.accessAllowed ? 'block' : 'none';\n",
              "\n",
              "      async function convertToInteractive(key) {\n",
              "        const element = document.querySelector('#df-b784c6f6-05b7-412d-8e19-c93506dfd75c');\n",
              "        const dataTable =\n",
              "          await google.colab.kernel.invokeFunction('convertToInteractive',\n",
              "                                                    [key], {});\n",
              "        if (!dataTable) return;\n",
              "\n",
              "        const docLinkHtml = 'Like what you see? Visit the ' +\n",
              "          '<a target=\"_blank\" href=https://colab.research.google.com/notebooks/data_table.ipynb>data table notebook</a>'\n",
              "          + ' to learn more about interactive tables.';\n",
              "        element.innerHTML = '';\n",
              "        dataTable['output_type'] = 'display_data';\n",
              "        await google.colab.output.renderOutput(dataTable, element);\n",
              "        const docLink = document.createElement('div');\n",
              "        docLink.innerHTML = docLinkHtml;\n",
              "        element.appendChild(docLink);\n",
              "      }\n",
              "    </script>\n",
              "  </div>\n",
              "\n",
              "\n",
              "<div id=\"df-0d17cc3d-78d5-479b-9176-7667806e5579\">\n",
              "  <button class=\"colab-df-quickchart\" onclick=\"quickchart('df-0d17cc3d-78d5-479b-9176-7667806e5579')\"\n",
              "            title=\"Suggest charts.\"\n",
              "            style=\"display:none;\">\n",
              "\n",
              "<svg xmlns=\"http://www.w3.org/2000/svg\" height=\"24px\"viewBox=\"0 0 24 24\"\n",
              "     width=\"24px\">\n",
              "    <g>\n",
              "        <path d=\"M19 3H5c-1.1 0-2 .9-2 2v14c0 1.1.9 2 2 2h14c1.1 0 2-.9 2-2V5c0-1.1-.9-2-2-2zM9 17H7v-7h2v7zm4 0h-2V7h2v10zm4 0h-2v-4h2v4z\"/>\n",
              "    </g>\n",
              "</svg>\n",
              "  </button>\n",
              "\n",
              "<style>\n",
              "  .colab-df-quickchart {\n",
              "      --bg-color: #E8F0FE;\n",
              "      --fill-color: #1967D2;\n",
              "      --hover-bg-color: #E2EBFA;\n",
              "      --hover-fill-color: #174EA6;\n",
              "      --disabled-fill-color: #AAA;\n",
              "      --disabled-bg-color: #DDD;\n",
              "  }\n",
              "\n",
              "  [theme=dark] .colab-df-quickchart {\n",
              "      --bg-color: #3B4455;\n",
              "      --fill-color: #D2E3FC;\n",
              "      --hover-bg-color: #434B5C;\n",
              "      --hover-fill-color: #FFFFFF;\n",
              "      --disabled-bg-color: #3B4455;\n",
              "      --disabled-fill-color: #666;\n",
              "  }\n",
              "\n",
              "  .colab-df-quickchart {\n",
              "    background-color: var(--bg-color);\n",
              "    border: none;\n",
              "    border-radius: 50%;\n",
              "    cursor: pointer;\n",
              "    display: none;\n",
              "    fill: var(--fill-color);\n",
              "    height: 32px;\n",
              "    padding: 0;\n",
              "    width: 32px;\n",
              "  }\n",
              "\n",
              "  .colab-df-quickchart:hover {\n",
              "    background-color: var(--hover-bg-color);\n",
              "    box-shadow: 0 1px 2px rgba(60, 64, 67, 0.3), 0 1px 3px 1px rgba(60, 64, 67, 0.15);\n",
              "    fill: var(--button-hover-fill-color);\n",
              "  }\n",
              "\n",
              "  .colab-df-quickchart-complete:disabled,\n",
              "  .colab-df-quickchart-complete:disabled:hover {\n",
              "    background-color: var(--disabled-bg-color);\n",
              "    fill: var(--disabled-fill-color);\n",
              "    box-shadow: none;\n",
              "  }\n",
              "\n",
              "  .colab-df-spinner {\n",
              "    border: 2px solid var(--fill-color);\n",
              "    border-color: transparent;\n",
              "    border-bottom-color: var(--fill-color);\n",
              "    animation:\n",
              "      spin 1s steps(1) infinite;\n",
              "  }\n",
              "\n",
              "  @keyframes spin {\n",
              "    0% {\n",
              "      border-color: transparent;\n",
              "      border-bottom-color: var(--fill-color);\n",
              "      border-left-color: var(--fill-color);\n",
              "    }\n",
              "    20% {\n",
              "      border-color: transparent;\n",
              "      border-left-color: var(--fill-color);\n",
              "      border-top-color: var(--fill-color);\n",
              "    }\n",
              "    30% {\n",
              "      border-color: transparent;\n",
              "      border-left-color: var(--fill-color);\n",
              "      border-top-color: var(--fill-color);\n",
              "      border-right-color: var(--fill-color);\n",
              "    }\n",
              "    40% {\n",
              "      border-color: transparent;\n",
              "      border-right-color: var(--fill-color);\n",
              "      border-top-color: var(--fill-color);\n",
              "    }\n",
              "    60% {\n",
              "      border-color: transparent;\n",
              "      border-right-color: var(--fill-color);\n",
              "    }\n",
              "    80% {\n",
              "      border-color: transparent;\n",
              "      border-right-color: var(--fill-color);\n",
              "      border-bottom-color: var(--fill-color);\n",
              "    }\n",
              "    90% {\n",
              "      border-color: transparent;\n",
              "      border-bottom-color: var(--fill-color);\n",
              "    }\n",
              "  }\n",
              "</style>\n",
              "\n",
              "  <script>\n",
              "    async function quickchart(key) {\n",
              "      const quickchartButtonEl =\n",
              "        document.querySelector('#' + key + ' button');\n",
              "      quickchartButtonEl.disabled = true;  // To prevent multiple clicks.\n",
              "      quickchartButtonEl.classList.add('colab-df-spinner');\n",
              "      try {\n",
              "        const charts = await google.colab.kernel.invokeFunction(\n",
              "            'suggestCharts', [key], {});\n",
              "      } catch (error) {\n",
              "        console.error('Error during call to suggestCharts:', error);\n",
              "      }\n",
              "      quickchartButtonEl.classList.remove('colab-df-spinner');\n",
              "      quickchartButtonEl.classList.add('colab-df-quickchart-complete');\n",
              "    }\n",
              "    (() => {\n",
              "      let quickchartButtonEl =\n",
              "        document.querySelector('#df-0d17cc3d-78d5-479b-9176-7667806e5579 button');\n",
              "      quickchartButtonEl.style.display =\n",
              "        google.colab.kernel.accessAllowed ? 'block' : 'none';\n",
              "    })();\n",
              "  </script>\n",
              "</div>\n",
              "    </div>\n",
              "  </div>\n"
            ]
          },
          "metadata": {},
          "execution_count": 95
        }
      ]
    },
    {
      "cell_type": "code",
      "source": [
        "a= int(input (\"por favor seleccione 1 para pizza vegetariana o 2 para pizza no vegetariana o 3 si quieres salir: \"))\n",
        "ing1=['Pimiento','Tofu']\n",
        "ing2=['Peperoni','Jamón','Salmón']\n",
        "\n",
        "\n",
        "while (a!=3):\n",
        "  if a==1:\n",
        "    print(f'los ingredientes disponibles son: \\n 1: Pimiento  \\n 2:Tofu')\n",
        "    g = int(input('¿Cúal es su elección?: '))\n",
        "    if g==1 or g==2:\n",
        "      print(f'Su orden es: una pizza vegetariana, con mozzarella, tomate y {ing1[g-1]}')\n",
        "      a= int(input (\"por favor seleccione 1 para pizza vegetariana o 2 para pizza no vegetariana o 3 si quieres salir: \"))\n",
        "\n",
        "    else:\n",
        "      print('Error en la orden, comience nuevamente')\n",
        "      a= int(input (\"por favor seleccione 1 para pizza vegetariana o 2 para pizza no vegetariana o 3 si quieres salir: \"))\n",
        "\n",
        "  elif a==2:\n",
        "    print(f'los ingredientes disponibles son:  \\n 1: Peperoni  \\n 2: Jamón  \\n 3: Salmón')\n",
        "    h = int(input('¿Cúal es su elección?: '))\n",
        "    if h==1 or h==2 or h==3:\n",
        "      print(f'Su orden es: una pizza no vegetariana, con mozzarella, tomate y {ing2[h-1]}')\n",
        "      a= int(input (\"por favor seleccione 1 para pizza vegetariana o 2 para pizza no vegetariana o 3 si quieres salir: \"))\n",
        "\n",
        "    else:\n",
        "      print('Error en la orden, comience nuevamente')\n",
        "      a= int(input (\"por favor seleccione 1 para pizza vegetariana o 2 para pizza no vegetariana o 3 si quieres salir: \"))\n",
        "\n",
        "  else:\n",
        "    print('Error en la orden, comience nuevamente')\n",
        "    a= int(input (\"por favor seleccione 1 para pizza vegetariana o 2 para pizza no vegetariana o 3 si quieres salir: \"))\n",
        "\n"
      ],
      "metadata": {
        "colab": {
          "base_uri": "https://localhost:8080/"
        },
        "id": "tFZBO0Vi0cJ5",
        "outputId": "ece141e5-a47a-4e24-c96c-5756496f69fd"
      },
      "execution_count": null,
      "outputs": [
        {
          "name": "stdout",
          "output_type": "stream",
          "text": [
            "por favor seleccione 1 para pizza vegetariana o 2 para pizza no vegetariana o 3 si quieres salir: 3\n"
          ]
        }
      ]
    },
    {
      "cell_type": "code",
      "source": [
        "ejemplo_1=np.zeros(4)\n",
        "\n",
        "ejemplo_2=np.zeros((2,5))\n",
        "\n",
        "ejemplo_3=np.ones(3)\n",
        "\n",
        "ejemplo_4=np.ones((2,5))\n",
        "\n",
        "ejemplo_5=np.full((2,3),12)\n",
        "print(ejemplo_1)\n",
        "print(ejemplo_2)\n",
        "print(ejemplo_3)\n",
        "print(ejemplo_4)\n",
        "print(ejemplo_5)\n"
      ],
      "metadata": {
        "colab": {
          "base_uri": "https://localhost:8080/"
        },
        "id": "CfK6hgZf7Upt",
        "outputId": "843f9852-ca01-479e-9eb6-bc3a899038b6"
      },
      "execution_count": null,
      "outputs": [
        {
          "output_type": "stream",
          "name": "stdout",
          "text": [
            "[0. 0. 0. 0.]\n",
            "[[0. 0. 0. 0. 0.]\n",
            " [0. 0. 0. 0. 0.]]\n",
            "[1. 1. 1.]\n",
            "[[1. 1. 1. 1. 1.]\n",
            " [1. 1. 1. 1. 1.]]\n",
            "[[12 12 12]\n",
            " [12 12 12]]\n"
          ]
        }
      ]
    },
    {
      "cell_type": "code",
      "source": [
        "df=pd.DataFrame({'Mes': ['ene','feb','mar','may','jun'], 'Ventas': [10,15,6,11,20]})\n",
        "df"
      ],
      "metadata": {
        "id": "N_4drDpJ_DVO"
      },
      "execution_count": null,
      "outputs": []
    }
  ]
}