{
  "nbformat": 4,
  "nbformat_minor": 0,
  "metadata": {
    "colab": {
      "provenance": []
    },
    "kernelspec": {
      "name": "python3",
      "display_name": "Python 3"
    },
    "language_info": {
      "name": "python"
    }
  },
  "cells": [
    {
      "cell_type": "markdown",
      "source": [
        "#Proyecto de Predicción de Neumonía en Entorno Local"
      ],
      "metadata": {
        "id": "atuHe5DB6uz4"
      }
    },
    {
      "cell_type": "markdown",
      "source": [
        "Este proyecto despliega una aplicación Flask en Entorno Local, que permite predecir si una imagen de rayos X muestra signos de neumonía.\n",
        "\n",
        "\n",
        "```\n",
        "EntornoLocal/\n",
        "├── main.py\n",
        "├── requirements.txt\n",
        "├── best_model_improved.h5\n",
        "└── templates/\n",
        "    ├── index.html\n",
        "    └── result.html\n",
        "\n",
        "\n",
        "\n",
        "##Descripción de los Archivos\n",
        "\n",
        "**EntornoLocal/:** Carpeta principal del proyecto.\n",
        "\n",
        "- main.py: Código principal de la aplicación Flask.\n",
        "- requirements.txt: Archivo que contiene las dependencias del proyecto.\n",
        "- best_model_improved.h5: Archivo del modelo preentrenado en formato H5.\n",
        "  (descargar desde Google Drive: https://drive.google.com/file/d/1P98YC-eicp3RwPBOk7xAKTLcZrRt7LLE/view?usp=sharing)\n",
        "- templates/: Carpeta que contiene los archivos HTML.\n",
        "  - index.html: Página de inicio de la aplicación.\n",
        "  - result.html: Página que muestra los resultados de la predicción.\n"
      ],
      "metadata": {
        "id": "D8-0-bg36uwS"
      }
    },
    {
      "cell_type": "markdown",
      "source": [
        "#Instrucciones para Reproducir el Proyecto"
      ],
      "metadata": {
        "id": "YaKXDKdG6utq"
      }
    },
    {
      "cell_type": "markdown",
      "source": [
        "\n",
        "\n",
        "###PASO 1: DESCARGAR LOS ARCHIVOS DEL PROYECTO\n",
        "\n",
        "\n",
        "1. Descarga el archivo comprimido con todos los archivos del proyecto desde el siguiente enlace:\n",
        "\n",
        "    https://github.com/HKalister/XRAY-EntornoLocal/archive/refs/heads/main.zip\n",
        "    \n",
        "2. Descomprimir el Archivo:\n",
        "\n",
        "   Descomprime el archivo descargado en tu computadora. Asegúrate de que todos los archivos estén en la misma carpeta.\n",
        "\n",
        "3. Descargar el archivo del modelo desde el siguiente enlace:\n",
        "   https://drive.google.com/file/d/1P98YC-eicp3RwPBOk7xAKTLcZrRt7LLE/view?usp=sharing\n",
        "   Es necesario moverlo a la misma carpeta donde se encuentra el resto de los archivos,  para su correcto funcionamiento.\n",
        "\n",
        "\n",
        "\n",
        "###PASO 2: CREAR Y ACTIVAR UN ENTORNO VIRTUAL\n",
        "1. Abrir la Terminal (Símbolo del sistema o PowerShell):\n",
        "\n",
        "    Presiona Win + R, escribe cmd o powershell y presiona Enter.\n",
        "\n",
        "2. Navegar al Directorio del Repositorio:\n",
        "\n",
        "   Cambia al directorio del repositorio clonado. Reemplaza <nombre_del_repositorio> con el nombre del directorio (ubicacion de la carpeta donde se encuentran todos los archivos)\n",
        "```\n",
        "cd <nombre_del_repositorio>\n",
        "```\n",
        "3. Crear un Entorno Virtual:\n",
        "```\n",
        "python -m venv env\n",
        "```\n",
        "4. Activar el Entorno Virtual:\n",
        "```\n",
        "env\\Scripts\\activate\n",
        "```\n",
        "\n",
        "\n",
        "###PASO 3: INSTALAR LAS DEPENDENCIAS\n",
        "Instalar las Dependencias desde requirements.txt:\n",
        "```\n",
        "pip install -r requirements.txt\n",
        "```\n",
        "\n",
        "###PASO 4: EJECUTAR LA APLICACION\n",
        "```\n",
        "python main.py\n",
        "```\n",
        "\n",
        "###PASO 5: ACCEDER A LA APLICACIÓN\n",
        "Del paso anterior debería aparecer algo asi:\n",
        " * Running on all addresses (0.0.0.0)\n",
        " * Running on http://127.0.0.1:8080\n",
        " * Running on http://192.168.1.11:8080\n",
        "\n",
        " Abre un navegador web y ve a http://127.0.0.1:8080 para usar la aplicación desde la misma máquina. Para acceder desde otro dispositivo en la misma red, usa la dirección http://192.168.1.11:8080.\n"
      ],
      "metadata": {
        "id": "8eb3OFvp6uoU"
      }
    },
    {
      "cell_type": "code",
      "source": [],
      "metadata": {
        "id": "AcyGvzdg7EuE"
      },
      "execution_count": null,
      "outputs": []
    }
  ]
}