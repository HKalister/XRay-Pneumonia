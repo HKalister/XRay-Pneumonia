{
  "nbformat": 4,
  "nbformat_minor": 0,
  "metadata": {
    "colab": {
      "provenance": []
    },
    "kernelspec": {
      "name": "python3",
      "display_name": "Python 3"
    },
    "language_info": {
      "name": "python"
    }
  },
  "cells": [
    {
      "cell_type": "markdown",
      "source": [
        "#Proyecto de Predicción de Neumonía con Google Cloud"
      ],
      "metadata": {
        "id": "atuHe5DB6uz4"
      }
    },
    {
      "cell_type": "markdown",
      "source": [
        "Este proyecto despliega una aplicación Flask en Google Cloud App Engine que permite predecir si una imagen de rayos X muestra signos de neumonía.\n",
        "\n",
        "\n",
        "```\n",
        "GOOGLE_CLOUD/\n",
        "├── main.py\n",
        "├── app.yaml\n",
        "├── requirements.txt\n",
        "├── templates/\n",
        "│   ├── index.html\n",
        "│   └── result.html\n",
        "├── [archivo_de_credenciales].json (este archivo contiene tus credenciales de Google Cloud)\n",
        "└── .gcloudignore\n",
        "\n",
        "\n",
        "bucketxxxx\n",
        "├── best_model_improved.h5\n",
        "└── uploads/\n",
        "```\n",
        "\n",
        "##Descripción de los Archivos\n",
        "\n",
        "**GOOGLE_CLOUD/:** Carpeta principal del proyecto.\n",
        "\n",
        "- main.py: Código principal de la aplicación Flask.\n",
        "- app.yaml: Archivo de configuración para Google App Engine.\n",
        "- requirements.txt: Archivo que contiene las dependencias del proyecto.\n",
        "- templates/: Carpeta que contiene los archivos HTML.\n",
        "  - index.html: Página de inicio de la aplicación.\n",
        "  - result.html: Página que muestra los resultados de la predicción.\n",
        "- xraypredict-XXXX.json: Archivo de credenciales de Google Cloud (debes obtenerlo desde Google Cloud Console).\n",
        "-\n",
        "\n",
        "**ADICIONAL:**\n",
        "- models/: Carpeta que contiene el modelo entrenado.\n",
        "  - best_model_improved.h5: Archivo del modelo preentrenado en formato H5.\n",
        "  (descargar desde Google Drive: https://drive.google.com/file/d/1P98YC-eicp3RwPBOk7xAKTLcZrRt7LLE/view?usp=sharing)"
      ],
      "metadata": {
        "id": "D8-0-bg36uwS"
      }
    },
    {
      "cell_type": "markdown",
      "source": [
        "#Instrucciones para Reproducir el Proyecto"
      ],
      "metadata": {
        "id": "YaKXDKdG6utq"
      }
    },
    {
      "cell_type": "markdown",
      "source": [
        "##Prerrequisitos\n",
        "\n",
        "1. **Google Cloud SDK:**\n",
        "    \n",
        "  Instalar Google Cloud SDK desde el sitio oficial de Google Cloud:\n",
        "https://cloud.google.com/sdk/docs/install\n",
        "\n",
        "2. **Git:** Asegúrate de tener Git instalado en tu máquina. (https://git-scm.com/download/win)\n",
        "\n",
        "3. **Credenciales de Google Cloud:** Necesitarás el archivo JSON de credenciales de tu proyecto de Google Cloud."
      ],
      "metadata": {
        "id": "E7Ygcrve6urJ"
      }
    },
    {
      "cell_type": "markdown",
      "source": [
        "###PASO 1: CLONAR REPOSITORIO\n",
        "\n",
        "Abre una terminal y ejecuta:\n",
        "```\n",
        "git clone <URL_del_repositorio>\n",
        "cd <nombre_del_repositorio>\n",
        "```\n",
        "\n",
        "###PASO 2: CONFIGURAR EL ENTORNO (OPCIONAL)\n",
        "Crea un entorno virtual e instala las dependencias:\n",
        "```\n",
        "python -m venv env\n",
        "source env/bin/activate  # En Windows usa `env\\Scripts\\activate`\n",
        "pip install -r requirements.txt\n",
        "```\n",
        "\n",
        "###PASO 3: CONFIGURAR CREDENCIALES DE GOOGLE CLOUD\n",
        "\n",
        "1. Ve a Google Cloud Console\n",
        "2. Crear una cuenta de servicio con permisos de almacenamiento:\n",
        "- Navega a \"IAM y administración\" > \"Cuentas de servicio\".\n",
        "- Haz clic en \"Crear cuenta de servicio\".\n",
        "- Asigna un nombre a la cuenta y proporciona una descripción (opcional).\n",
        "- Haz clic en \"Crear y continuar\".\n",
        "- Asigna el rol \"Storage Admin\" a la cuenta de servicio.\n",
        "- Haz clic en \"Continuar\" y luego en \"Hecho\".\n",
        "3. Descargar el archivo de credenciales JSON:\n",
        "- Encuentra la cuenta de servicio que acabas de crear en la lista.\n",
        "- Haz clic en los tres puntos a la derecha y selecciona \"Crear clave\".\n",
        "- Selecciona \"JSON\" como tipo de clave y haz clic en \"Crear\". El archivo JSON se descargará automáticamente.\n",
        "4. Coloca el archivo de credenciales JSON en la carpeta GOOGLE_CLOUD/:\n",
        "- Renombra el archivo descargado a nombre_del_proyecto.json.\n",
        "- Coloca este archivo en la carpeta GOOGLE_CLOUD/.\n",
        "\n",
        "###PASO 4: CREAR UN BUCKET EN GOOGLE CLOUD STORAGE\n",
        "1. Crear un bucket:\n",
        "- En Google Cloud Console, navega a \"Cloud Storage\" > \"Navegador\".\n",
        "- Haz clic en \"Crear bucket\".\n",
        "- Asigna un nombre único al bucket (por ejemplo, nombre_del_bucket).\n",
        "- Selecciona la ubicación y configura otras opciones según sea necesario.\n",
        "- Haz clic en \"Crear\".\n",
        "\n",
        "2. Subir el modelo al bucket:\n",
        "- Sube el archivo best_model_improved.h5 al bucket que acabas de crear.\n",
        "\n",
        "3. Crear la carpeta uploads en el bucket:\n",
        "- Dentro del bucket, crea una carpeta llamada uploads. Esta carpeta almacenará las imágenes cargadas por los usuarios.\n",
        "\n",
        "###PASO 5: INSTALAR GOOGLE CLOUD SDK\n",
        "\n",
        "1. Descargar e instalar Google Cloud SDK:\n",
        "- Ve al sitio oficial de Google Cloud: Google Cloud SDK.\n",
        "\n",
        "2. Iniciar sesión en Google Cloud:\n",
        "- En la terminal:\n",
        "```\n",
        "gcloud auth login\n",
        "```\n",
        "3. Seleccionar el proyecto de Google Cloud:\n",
        "```\n",
        "gcloud config set project <tu-project-id>\n",
        "```\n",
        "\n",
        "\n",
        "###PASO 6: DESPLIEGUE EN GOOGLE APP ENGINE\n",
        "1. Navega a la carpeta GOOGLE_CLOUD/:\n",
        "```\n",
        "cd GOOGLE_CLOUD\n",
        "```\n",
        "2. Desplegar la aplicación:\n",
        "```\n",
        "gcloud app deploy\n",
        "```\n",
        "Al momento de la primera ejecución se genera el archivo .gcloudignore (este archivo, hay que dejarlo e ignorarlo).\n",
        "\n",
        "\n",
        "3. Abrir la aplicación en el navegador:\n",
        "```\n",
        "gcloud app browse\n",
        "```"
      ],
      "metadata": {
        "id": "8eb3OFvp6uoU"
      }
    }
  ]
}